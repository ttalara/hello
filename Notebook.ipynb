{
  "metadata": {
    "kernelspec": {
      "name": "python",
      "display_name": "Python (Pyodide)",
      "language": "python"
    },
    "language_info": {
      "codemirror_mode": {
        "name": "python",
        "version": 3
      },
      "file_extension": ".py",
      "mimetype": "text/x-python",
      "name": "python",
      "nbconvert_exporter": "python",
      "pygments_lexer": "ipython3",
      "version": "3.8"
    }
  },
  "nbformat_minor": 4,
  "nbformat": 4,
  "cells": [
    {
      "cell_type": "markdown",
      "source": "Data Science Tools and Ecosystem",
      "metadata": {}
    },
    {
      "cell_type": "markdown",
      "source": "## Introduction\nThis notebook is an assigment for Data Science course",
      "metadata": {}
    },
    {
      "cell_type": "markdown",
      "source": "## Data Science Languages\n- Python\n- R\n- SQL\n- JavaScript\n- Java\n- C",
      "metadata": {}
    },
    {
      "cell_type": "markdown",
      "source": "## Data Science Libraries\n- Pandas\n- NumPy\n- Matplotlib\n- Seaborn\n- Scikit-learn\n- TensorFlow",
      "metadata": {}
    },
    {
      "cell_type": "markdown",
      "source": "## Data Science Tools\n           \n| Jupyter Notebook \n| GitHub          \n| Anaconda        \n| Tableau          \n| Power BI        ",
      "metadata": {}
    },
    {
      "cell_type": "markdown",
      "source": "## Arithmetic Expression Examples\nIn this section, we will show basic arithmetic expressions like addition, subtraction, multiplication, and division.",
      "metadata": {}
    },
    {
      "cell_type": "code",
      "source": "num1 = 2\nnum2 = 4\n\nMuliplication= num1 * num2\n\nAddition = num1 + num2\n\nMuliplication,Addition",
      "metadata": {
        "trusted": true
      },
      "outputs": [],
      "execution_count": null
    },
    {
      "cell_type": "markdown",
      "source": "# Function to convert minutes to hours\ndef convert_minutes_to_hours(minutes):\n    hours = minutes / 60\n    return hours\n\n# Example conversion\nminutes = 80\nhours = convert_minutes_to_hours(minutes)\nhours",
      "metadata": {}
    },
    {
      "cell_type": "markdown",
      "source": "## Objectives\n1. Learn basic markdown syntax for documentation.\n2. Understand basic arithmetic operations in Python.\n3. Use functions to perform simple conversions and calculations.\n4. Explore common data science tools and languages.\n5. Share work through GitHub and take screenshots for submission.",
      "metadata": {}
    },
    {
      "cell_type": "markdown",
      "source": "## Author\nThis notebook was created by Alara",
      "metadata": {}
    },
    {
      "cell_type": "code",
      "source": "",
      "metadata": {
        "trusted": true
      },
      "outputs": [],
      "execution_count": null
    }
  ]
}